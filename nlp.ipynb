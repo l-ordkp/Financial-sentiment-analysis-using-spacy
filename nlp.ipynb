{
 "cells": [
  {
   "cell_type": "code",
   "execution_count": 1,
   "metadata": {},
   "outputs": [],
   "source": [
    "import spacy\n",
    "import pandas as pd\n"
   ]
  },
  {
   "cell_type": "code",
   "execution_count": 2,
   "metadata": {},
   "outputs": [
    {
     "data": {
      "text/html": [
       "<div>\n",
       "<style scoped>\n",
       "    .dataframe tbody tr th:only-of-type {\n",
       "        vertical-align: middle;\n",
       "    }\n",
       "\n",
       "    .dataframe tbody tr th {\n",
       "        vertical-align: top;\n",
       "    }\n",
       "\n",
       "    .dataframe thead th {\n",
       "        text-align: right;\n",
       "    }\n",
       "</style>\n",
       "<table border=\"1\" class=\"dataframe\">\n",
       "  <thead>\n",
       "    <tr style=\"text-align: right;\">\n",
       "      <th></th>\n",
       "      <th>neutral</th>\n",
       "      <th>According to Gran , the company has no plans to move all production to Russia , although that is where the company is growing .</th>\n",
       "    </tr>\n",
       "  </thead>\n",
       "  <tbody>\n",
       "    <tr>\n",
       "      <th>0</th>\n",
       "      <td>neutral</td>\n",
       "      <td>Technopolis plans to develop in stages an area...</td>\n",
       "    </tr>\n",
       "    <tr>\n",
       "      <th>1</th>\n",
       "      <td>negative</td>\n",
       "      <td>The international electronic industry company ...</td>\n",
       "    </tr>\n",
       "    <tr>\n",
       "      <th>2</th>\n",
       "      <td>positive</td>\n",
       "      <td>With the new production plant the company woul...</td>\n",
       "    </tr>\n",
       "    <tr>\n",
       "      <th>3</th>\n",
       "      <td>positive</td>\n",
       "      <td>According to the company 's updated strategy f...</td>\n",
       "    </tr>\n",
       "    <tr>\n",
       "      <th>4</th>\n",
       "      <td>positive</td>\n",
       "      <td>FINANCING OF ASPOCOMP 'S GROWTH Aspocomp is ag...</td>\n",
       "    </tr>\n",
       "  </tbody>\n",
       "</table>\n",
       "</div>"
      ],
      "text/plain": [
       "    neutral   \n",
       "0   neutral  \\\n",
       "1  negative   \n",
       "2  positive   \n",
       "3  positive   \n",
       "4  positive   \n",
       "\n",
       "  According to Gran , the company has no plans to move all production to Russia , although that is where the company is growing .  \n",
       "0  Technopolis plans to develop in stages an area...                                                                               \n",
       "1  The international electronic industry company ...                                                                               \n",
       "2  With the new production plant the company woul...                                                                               \n",
       "3  According to the company 's updated strategy f...                                                                               \n",
       "4  FINANCING OF ASPOCOMP 'S GROWTH Aspocomp is ag...                                                                               "
      ]
     },
     "execution_count": 2,
     "metadata": {},
     "output_type": "execute_result"
    }
   ],
   "source": [
    "df = pd.read_csv(\"C:\\\\Users\\\\Kshit\\\\Desktop\\\\NLP\\\\Alldata.csv\", encoding='ISO-8859-1')\n",
    "df.head()"
   ]
  },
  {
   "cell_type": "code",
   "execution_count": 3,
   "metadata": {},
   "outputs": [
    {
     "name": "stdout",
     "output_type": "stream",
     "text": [
      "<class 'pandas.core.frame.DataFrame'>\n",
      "RangeIndex: 4845 entries, 0 to 4844\n",
      "Data columns (total 2 columns):\n",
      " #   Column                                                                                                                           Non-Null Count  Dtype \n",
      "---  ------                                                                                                                           --------------  ----- \n",
      " 0   neutral                                                                                                                          4845 non-null   object\n",
      " 1   According to Gran , the company has no plans to move all production to Russia , although that is where the company is growing .  4845 non-null   object\n",
      "dtypes: object(2)\n",
      "memory usage: 75.8+ KB\n"
     ]
    }
   ],
   "source": [
    "df.info()"
   ]
  },
  {
   "cell_type": "code",
   "execution_count": 4,
   "metadata": {},
   "outputs": [
    {
     "data": {
      "text/html": [
       "<div>\n",
       "<style scoped>\n",
       "    .dataframe tbody tr th:only-of-type {\n",
       "        vertical-align: middle;\n",
       "    }\n",
       "\n",
       "    .dataframe tbody tr th {\n",
       "        vertical-align: top;\n",
       "    }\n",
       "\n",
       "    .dataframe thead th {\n",
       "        text-align: right;\n",
       "    }\n",
       "</style>\n",
       "<table border=\"1\" class=\"dataframe\">\n",
       "  <thead>\n",
       "    <tr style=\"text-align: right;\">\n",
       "      <th></th>\n",
       "      <th>Feedback</th>\n",
       "      <th>Text</th>\n",
       "    </tr>\n",
       "  </thead>\n",
       "  <tbody>\n",
       "    <tr>\n",
       "      <th>0</th>\n",
       "      <td>neutral</td>\n",
       "      <td>Technopolis plans to develop in stages an area...</td>\n",
       "    </tr>\n",
       "    <tr>\n",
       "      <th>1</th>\n",
       "      <td>negative</td>\n",
       "      <td>The international electronic industry company ...</td>\n",
       "    </tr>\n",
       "    <tr>\n",
       "      <th>2</th>\n",
       "      <td>positive</td>\n",
       "      <td>With the new production plant the company woul...</td>\n",
       "    </tr>\n",
       "    <tr>\n",
       "      <th>3</th>\n",
       "      <td>positive</td>\n",
       "      <td>According to the company 's updated strategy f...</td>\n",
       "    </tr>\n",
       "    <tr>\n",
       "      <th>4</th>\n",
       "      <td>positive</td>\n",
       "      <td>FINANCING OF ASPOCOMP 'S GROWTH Aspocomp is ag...</td>\n",
       "    </tr>\n",
       "  </tbody>\n",
       "</table>\n",
       "</div>"
      ],
      "text/plain": [
       "   Feedback                                               Text\n",
       "0   neutral  Technopolis plans to develop in stages an area...\n",
       "1  negative  The international electronic industry company ...\n",
       "2  positive  With the new production plant the company woul...\n",
       "3  positive  According to the company 's updated strategy f...\n",
       "4  positive  FINANCING OF ASPOCOMP 'S GROWTH Aspocomp is ag..."
      ]
     },
     "execution_count": 4,
     "metadata": {},
     "output_type": "execute_result"
    }
   ],
   "source": [
    "newcolumnname = ['Feedback','Text']\n",
    "df.columns = newcolumnname\n",
    "df.head()\n"
   ]
  },
  {
   "cell_type": "code",
   "execution_count": 5,
   "metadata": {},
   "outputs": [
    {
     "data": {
      "text/html": [
       "<div>\n",
       "<style scoped>\n",
       "    .dataframe tbody tr th:only-of-type {\n",
       "        vertical-align: middle;\n",
       "    }\n",
       "\n",
       "    .dataframe tbody tr th {\n",
       "        vertical-align: top;\n",
       "    }\n",
       "\n",
       "    .dataframe thead th {\n",
       "        text-align: right;\n",
       "    }\n",
       "</style>\n",
       "<table border=\"1\" class=\"dataframe\">\n",
       "  <thead>\n",
       "    <tr style=\"text-align: right;\">\n",
       "      <th></th>\n",
       "      <th>Feedback</th>\n",
       "      <th>Text</th>\n",
       "    </tr>\n",
       "  </thead>\n",
       "  <tbody>\n",
       "    <tr>\n",
       "      <th>0</th>\n",
       "      <td>2</td>\n",
       "      <td>Technopolis plans to develop in stages an area...</td>\n",
       "    </tr>\n",
       "    <tr>\n",
       "      <th>1</th>\n",
       "      <td>1</td>\n",
       "      <td>The international electronic industry company ...</td>\n",
       "    </tr>\n",
       "    <tr>\n",
       "      <th>2</th>\n",
       "      <td>3</td>\n",
       "      <td>With the new production plant the company woul...</td>\n",
       "    </tr>\n",
       "    <tr>\n",
       "      <th>3</th>\n",
       "      <td>3</td>\n",
       "      <td>According to the company 's updated strategy f...</td>\n",
       "    </tr>\n",
       "    <tr>\n",
       "      <th>4</th>\n",
       "      <td>3</td>\n",
       "      <td>FINANCING OF ASPOCOMP 'S GROWTH Aspocomp is ag...</td>\n",
       "    </tr>\n",
       "  </tbody>\n",
       "</table>\n",
       "</div>"
      ],
      "text/plain": [
       "  Feedback                                               Text\n",
       "0        2  Technopolis plans to develop in stages an area...\n",
       "1        1  The international electronic industry company ...\n",
       "2        3  With the new production plant the company woul...\n",
       "3        3  According to the company 's updated strategy f...\n",
       "4        3  FINANCING OF ASPOCOMP 'S GROWTH Aspocomp is ag..."
      ]
     },
     "execution_count": 5,
     "metadata": {},
     "output_type": "execute_result"
    }
   ],
   "source": [
    "number = {'neutral':'2', 'positive':'3','negative':'1'}\n",
    "df['Feedback'] = df['Feedback'].map(number)\n",
    "df.head()"
   ]
  },
  {
   "cell_type": "code",
   "execution_count": 6,
   "metadata": {},
   "outputs": [
    {
     "data": {
      "text/plain": [
       "Feedback\n",
       "2    2878\n",
       "3    1363\n",
       "1     604\n",
       "Name: count, dtype: int64"
      ]
     },
     "execution_count": 6,
     "metadata": {},
     "output_type": "execute_result"
    }
   ],
   "source": [
    "df['Feedback'].value_counts()"
   ]
  },
  {
   "cell_type": "markdown",
   "metadata": {},
   "source": [
    "Removing common words and punctuations(Stopwords) "
   ]
  },
  {
   "cell_type": "code",
   "execution_count": 7,
   "metadata": {},
   "outputs": [],
   "source": [
    "nlp = spacy.load(\"en_core_web_sm\")\n",
    "import string"
   ]
  },
  {
   "cell_type": "code",
   "execution_count": 8,
   "metadata": {},
   "outputs": [],
   "source": [
    "def remove_stopwords_and_punctuation(text):\n",
    "    doc = nlp(text)\n",
    "    filtered_text = [token.text for token in doc if not (token.is_stop or token.text in string.punctuation)]\n",
    "    return ' '.join(filtered_text)"
   ]
  },
  {
   "cell_type": "code",
   "execution_count": 9,
   "metadata": {},
   "outputs": [],
   "source": [
    "df['Text'] = df['Text'].apply(remove_stopwords_and_punctuation)"
   ]
  },
  {
   "cell_type": "code",
   "execution_count": 10,
   "metadata": {},
   "outputs": [
    {
     "name": "stdout",
     "output_type": "stream",
     "text": [
      "     Feedback                                               Text\n",
      "0           2  Technopolis plans develop stages area 100,000 ...\n",
      "1           1  international electronic industry company Elco...\n",
      "2           3  new production plant company increase capacity...\n",
      "3           3  According company updated strategy years 2009 ...\n",
      "4           3  FINANCING ASPOCOMP GROWTH Aspocomp aggressivel...\n",
      "...       ...                                                ...\n",
      "4840        1  LONDON MarketWatch -- Share prices ended lower...\n",
      "4841        2  Rinkuskiai beer sales fell 6.5 cent 4.16 milli...\n",
      "4842        1  Operating profit fell EUR 35.4 mn EUR 68.8 mn ...\n",
      "4843        1  Net sales Paper segment decreased EUR 221.6 mn...\n",
      "4844        1  Sales Finland decreased 10.5 January sales out...\n",
      "\n",
      "[4845 rows x 2 columns]\n"
     ]
    }
   ],
   "source": [
    "print(df)"
   ]
  },
  {
   "cell_type": "markdown",
   "metadata": {},
   "source": [
    "Applying TF-IDF Transformation"
   ]
  },
  {
   "cell_type": "code",
   "execution_count": 11,
   "metadata": {},
   "outputs": [],
   "source": [
    "from sklearn.feature_extraction.text import TfidfVectorizer"
   ]
  },
  {
   "cell_type": "code",
   "execution_count": 12,
   "metadata": {},
   "outputs": [
    {
     "data": {
      "text/html": [
       "<style>#sk-container-id-1 {color: black;background-color: white;}#sk-container-id-1 pre{padding: 0;}#sk-container-id-1 div.sk-toggleable {background-color: white;}#sk-container-id-1 label.sk-toggleable__label {cursor: pointer;display: block;width: 100%;margin-bottom: 0;padding: 0.3em;box-sizing: border-box;text-align: center;}#sk-container-id-1 label.sk-toggleable__label-arrow:before {content: \"▸\";float: left;margin-right: 0.25em;color: #696969;}#sk-container-id-1 label.sk-toggleable__label-arrow:hover:before {color: black;}#sk-container-id-1 div.sk-estimator:hover label.sk-toggleable__label-arrow:before {color: black;}#sk-container-id-1 div.sk-toggleable__content {max-height: 0;max-width: 0;overflow: hidden;text-align: left;background-color: #f0f8ff;}#sk-container-id-1 div.sk-toggleable__content pre {margin: 0.2em;color: black;border-radius: 0.25em;background-color: #f0f8ff;}#sk-container-id-1 input.sk-toggleable__control:checked~div.sk-toggleable__content {max-height: 200px;max-width: 100%;overflow: auto;}#sk-container-id-1 input.sk-toggleable__control:checked~label.sk-toggleable__label-arrow:before {content: \"▾\";}#sk-container-id-1 div.sk-estimator input.sk-toggleable__control:checked~label.sk-toggleable__label {background-color: #d4ebff;}#sk-container-id-1 div.sk-label input.sk-toggleable__control:checked~label.sk-toggleable__label {background-color: #d4ebff;}#sk-container-id-1 input.sk-hidden--visually {border: 0;clip: rect(1px 1px 1px 1px);clip: rect(1px, 1px, 1px, 1px);height: 1px;margin: -1px;overflow: hidden;padding: 0;position: absolute;width: 1px;}#sk-container-id-1 div.sk-estimator {font-family: monospace;background-color: #f0f8ff;border: 1px dotted black;border-radius: 0.25em;box-sizing: border-box;margin-bottom: 0.5em;}#sk-container-id-1 div.sk-estimator:hover {background-color: #d4ebff;}#sk-container-id-1 div.sk-parallel-item::after {content: \"\";width: 100%;border-bottom: 1px solid gray;flex-grow: 1;}#sk-container-id-1 div.sk-label:hover label.sk-toggleable__label {background-color: #d4ebff;}#sk-container-id-1 div.sk-serial::before {content: \"\";position: absolute;border-left: 1px solid gray;box-sizing: border-box;top: 0;bottom: 0;left: 50%;z-index: 0;}#sk-container-id-1 div.sk-serial {display: flex;flex-direction: column;align-items: center;background-color: white;padding-right: 0.2em;padding-left: 0.2em;position: relative;}#sk-container-id-1 div.sk-item {position: relative;z-index: 1;}#sk-container-id-1 div.sk-parallel {display: flex;align-items: stretch;justify-content: center;background-color: white;position: relative;}#sk-container-id-1 div.sk-item::before, #sk-container-id-1 div.sk-parallel-item::before {content: \"\";position: absolute;border-left: 1px solid gray;box-sizing: border-box;top: 0;bottom: 0;left: 50%;z-index: -1;}#sk-container-id-1 div.sk-parallel-item {display: flex;flex-direction: column;z-index: 1;position: relative;background-color: white;}#sk-container-id-1 div.sk-parallel-item:first-child::after {align-self: flex-end;width: 50%;}#sk-container-id-1 div.sk-parallel-item:last-child::after {align-self: flex-start;width: 50%;}#sk-container-id-1 div.sk-parallel-item:only-child::after {width: 0;}#sk-container-id-1 div.sk-dashed-wrapped {border: 1px dashed gray;margin: 0 0.4em 0.5em 0.4em;box-sizing: border-box;padding-bottom: 0.4em;background-color: white;}#sk-container-id-1 div.sk-label label {font-family: monospace;font-weight: bold;display: inline-block;line-height: 1.2em;}#sk-container-id-1 div.sk-label-container {text-align: center;}#sk-container-id-1 div.sk-container {/* jupyter's `normalize.less` sets `[hidden] { display: none; }` but bootstrap.min.css set `[hidden] { display: none !important; }` so we also need the `!important` here to be able to override the default hidden behavior on the sphinx rendered scikit-learn.org. See: https://github.com/scikit-learn/scikit-learn/issues/21755 */display: inline-block !important;position: relative;}#sk-container-id-1 div.sk-text-repr-fallback {display: none;}</style><div id=\"sk-container-id-1\" class=\"sk-top-container\"><div class=\"sk-text-repr-fallback\"><pre>TfidfVectorizer()</pre><b>In a Jupyter environment, please rerun this cell to show the HTML representation or trust the notebook. <br />On GitHub, the HTML representation is unable to render, please try loading this page with nbviewer.org.</b></div><div class=\"sk-container\" hidden><div class=\"sk-item\"><div class=\"sk-estimator sk-toggleable\"><input class=\"sk-toggleable__control sk-hidden--visually\" id=\"sk-estimator-id-1\" type=\"checkbox\" checked><label for=\"sk-estimator-id-1\" class=\"sk-toggleable__label sk-toggleable__label-arrow\">TfidfVectorizer</label><div class=\"sk-toggleable__content\"><pre>TfidfVectorizer()</pre></div></div></div></div></div>"
      ],
      "text/plain": [
       "TfidfVectorizer()"
      ]
     },
     "execution_count": 12,
     "metadata": {},
     "output_type": "execute_result"
    }
   ],
   "source": [
    "tfidf_vectorizer = TfidfVectorizer()\n",
    "tfidf_vectorizer.fit(df['Text'])"
   ]
  },
  {
   "cell_type": "code",
   "execution_count": 13,
   "metadata": {},
   "outputs": [
    {
     "name": "stdout",
     "output_type": "stream",
     "text": [
      "  (0, 9668)\t0.24486418305612523\n",
      "  (0, 8773)\t0.24679939858980152\n",
      "  (0, 8748)\t0.2509957673233442\n",
      "  (0, 8744)\t0.234965590927438\n",
      "  (0, 8358)\t0.2532830392028999\n",
      "  (0, 8334)\t0.28447232496209707\n",
      "  (0, 8314)\t0.24126827948476917\n",
      "  (0, 7703)\t0.12016969832763917\n",
      "  (0, 6701)\t0.21966802844985409\n",
      "  (0, 6299)\t0.18688059373751326\n",
      "  (0, 5715)\t0.28447232496209707\n",
      "  (0, 4352)\t0.31643954408206804\n",
      "  (0, 2686)\t0.2509957673233442\n",
      "  (0, 2207)\t0.2674196352703532\n",
      "  (0, 2149)\t0.17726390900737332\n",
      "  (0, 1139)\t0.20098032763173188\n",
      "  (0, 49)\t0.21426905810095742\n",
      "  (0, 1)\t0.16346285443076208\n",
      "  (1, 9663)\t0.2233898637375107\n",
      "  (1, 8799)\t0.2764349524375878\n",
      "  (1, 8673)\t0.22566378369392792\n",
      "  (1, 7411)\t0.18117186394607845\n",
      "  (1, 7150)\t0.2897985823472719\n",
      "  (1, 6812)\t0.2897985823472719\n",
      "  (1, 6211)\t0.18437426126463097\n",
      "  :\t:\n",
      "  (4843, 7610)\t0.15109031615947846\n",
      "  (4843, 7250)\t0.19018213090241673\n",
      "  (4843, 7091)\t0.2532770029867279\n",
      "  (4843, 6953)\t0.10807702086932947\n",
      "  (4843, 6442)\t0.16106494820693448\n",
      "  (4843, 6266)\t0.11808056308218405\n",
      "  (4843, 6098)\t0.17652549227692732\n",
      "  (4843, 6027)\t0.10980427385677016\n",
      "  (4843, 5813)\t0.4783672731547738\n",
      "  (4843, 4769)\t0.18810919254743633\n",
      "  (4843, 3441)\t0.19357632396490096\n",
      "  (4843, 3243)\t0.3785808473437626\n",
      "  (4843, 2575)\t0.15942864643460458\n",
      "  (4843, 266)\t0.24482084733752013\n",
      "  (4843, 251)\t0.27330150494419136\n",
      "  (4843, 224)\t0.11915248156687439\n",
      "  (4843, 222)\t0.1194814005683609\n",
      "  (4844, 7716)\t0.39850326115024476\n",
      "  (4844, 6363)\t0.3870868811447515\n",
      "  (4844, 4796)\t0.2894730921029863\n",
      "  (4844, 3680)\t0.4283314303018388\n",
      "  (4844, 2896)\t0.3906143228527494\n",
      "  (4844, 2575)\t0.29844234454608354\n",
      "  (4844, 141)\t0.33309200011018636\n",
      "  (4844, 48)\t0.26739250043500934\n"
     ]
    }
   ],
   "source": [
    "tfidf_matrix = tfidf_vectorizer.transform(df['Text'])\n",
    "print(tfidf_matrix)"
   ]
  },
  {
   "cell_type": "markdown",
   "metadata": {},
   "source": [
    "Applying S.M.O.T.E"
   ]
  },
  {
   "cell_type": "code",
   "execution_count": 14,
   "metadata": {},
   "outputs": [],
   "source": [
    "tfidf_df = pd.DataFrame(tfidf_matrix.toarray(), columns=tfidf_vectorizer.get_feature_names_out())\n",
    "\n",
    "# Concatenate the original DataFrame with the TF-IDF DataFrame\n",
    "df = pd.concat([df, tfidf_df], axis=1)\n"
   ]
  },
  {
   "cell_type": "code",
   "execution_count": null,
   "metadata": {},
   "outputs": [],
   "source": []
  },
  {
   "cell_type": "code",
   "execution_count": 15,
   "metadata": {},
   "outputs": [
    {
     "name": "stdout",
     "output_type": "stream",
     "text": [
      "     Feedback                                               Text   00   \n",
      "0           2  Technopolis plans develop stages area 100,000 ...  0.0  \\\n",
      "1           1  international electronic industry company Elco...  0.0   \n",
      "2           3  new production plant company increase capacity...  0.0   \n",
      "3           3  According company updated strategy years 2009 ...  0.0   \n",
      "4           3  FINANCING ASPOCOMP GROWTH Aspocomp aggressivel...  0.0   \n",
      "...       ...                                                ...  ...   \n",
      "4840        1  LONDON MarketWatch -- Share prices ended lower...  0.0   \n",
      "4841        2  Rinkuskiai beer sales fell 6.5 cent 4.16 milli...  0.0   \n",
      "4842        1  Operating profit fell EUR 35.4 mn EUR 68.8 mn ...  0.0   \n",
      "4843        1  Net sales Paper segment decreased EUR 221.6 mn...  0.0   \n",
      "4844        1  Sales Finland decreased 10.5 January sales out...  0.0   \n",
      "\n",
      "           000  000063  002  0025  003  0030  007  ...  ænnen  ænsi  ærnits   \n",
      "0     0.163463     0.0  0.0   0.0  0.0   0.0  0.0  ...    0.0   0.0     0.0  \\\n",
      "1     0.000000     0.0  0.0   0.0  0.0   0.0  0.0  ...    0.0   0.0     0.0   \n",
      "2     0.000000     0.0  0.0   0.0  0.0   0.0  0.0  ...    0.0   0.0     0.0   \n",
      "3     0.000000     0.0  0.0   0.0  0.0   0.0  0.0  ...    0.0   0.0     0.0   \n",
      "4     0.000000     0.0  0.0   0.0  0.0   0.0  0.0  ...    0.0   0.0     0.0   \n",
      "...        ...     ...  ...   ...  ...   ...  ...  ...    ...   ...     ...   \n",
      "4840  0.000000     0.0  0.0   0.0  0.0   0.0  0.0  ...    0.0   0.0     0.0   \n",
      "4841  0.000000     0.0  0.0   0.0  0.0   0.0  0.0  ...    0.0   0.0     0.0   \n",
      "4842  0.000000     0.0  0.0   0.0  0.0   0.0  0.0  ...    0.0   0.0     0.0   \n",
      "4843  0.000000     0.0  0.0   0.0  0.0   0.0  0.0  ...    0.0   0.0     0.0   \n",
      "4844  0.000000     0.0  0.0   0.0  0.0   0.0  0.0  ...    0.0   0.0     0.0   \n",
      "\n",
      "      ærtsil  ærvi  ærvinen  æsein  æskyl  ætehuolto   ðl  \n",
      "0        0.0   0.0      0.0    0.0    0.0        0.0  0.0  \n",
      "1        0.0   0.0      0.0    0.0    0.0        0.0  0.0  \n",
      "2        0.0   0.0      0.0    0.0    0.0        0.0  0.0  \n",
      "3        0.0   0.0      0.0    0.0    0.0        0.0  0.0  \n",
      "4        0.0   0.0      0.0    0.0    0.0        0.0  0.0  \n",
      "...      ...   ...      ...    ...    ...        ...  ...  \n",
      "4840     0.0   0.0      0.0    0.0    0.0        0.0  0.0  \n",
      "4841     0.0   0.0      0.0    0.0    0.0        0.0  0.0  \n",
      "4842     0.0   0.0      0.0    0.0    0.0        0.0  0.0  \n",
      "4843     0.0   0.0      0.0    0.0    0.0        0.0  0.0  \n",
      "4844     0.0   0.0      0.0    0.0    0.0        0.0  0.0  \n",
      "\n",
      "[4845 rows x 9790 columns]\n"
     ]
    }
   ],
   "source": [
    "print(df)"
   ]
  },
  {
   "cell_type": "code",
   "execution_count": 16,
   "metadata": {},
   "outputs": [],
   "source": [
    "import numpy as np"
   ]
  },
  {
   "cell_type": "code",
   "execution_count": 17,
   "metadata": {},
   "outputs": [],
   "source": [
    "from imblearn.over_sampling import SMOTE"
   ]
  },
  {
   "cell_type": "code",
   "execution_count": null,
   "metadata": {},
   "outputs": [],
   "source": []
  },
  {
   "cell_type": "code",
   "execution_count": 21,
   "metadata": {},
   "outputs": [],
   "source": [
    "\n",
    "# Separate features (X) and target labels (y)\n",
    "X = df.drop(['Feedback', 'Text'], axis=1)  # Exclude 'Feedback' and 'Text' columns\n",
    "y = df['Feedback']\n",
    "\n"
   ]
  },
  {
   "cell_type": "code",
   "execution_count": 22,
   "metadata": {},
   "outputs": [
    {
     "name": "stdout",
     "output_type": "stream",
     "text": [
      "       00       000  000063  002  0025  003  0030  007  008   01  ...  ænnen   \n",
      "0     0.0  0.163463     0.0  0.0   0.0  0.0   0.0  0.0  0.0  0.0  ...    0.0  \\\n",
      "1     0.0  0.000000     0.0  0.0   0.0  0.0   0.0  0.0  0.0  0.0  ...    0.0   \n",
      "2     0.0  0.000000     0.0  0.0   0.0  0.0   0.0  0.0  0.0  0.0  ...    0.0   \n",
      "3     0.0  0.000000     0.0  0.0   0.0  0.0   0.0  0.0  0.0  0.0  ...    0.0   \n",
      "4     0.0  0.000000     0.0  0.0   0.0  0.0   0.0  0.0  0.0  0.0  ...    0.0   \n",
      "...   ...       ...     ...  ...   ...  ...   ...  ...  ...  ...  ...    ...   \n",
      "4840  0.0  0.000000     0.0  0.0   0.0  0.0   0.0  0.0  0.0  0.0  ...    0.0   \n",
      "4841  0.0  0.000000     0.0  0.0   0.0  0.0   0.0  0.0  0.0  0.0  ...    0.0   \n",
      "4842  0.0  0.000000     0.0  0.0   0.0  0.0   0.0  0.0  0.0  0.0  ...    0.0   \n",
      "4843  0.0  0.000000     0.0  0.0   0.0  0.0   0.0  0.0  0.0  0.0  ...    0.0   \n",
      "4844  0.0  0.000000     0.0  0.0   0.0  0.0   0.0  0.0  0.0  0.0  ...    0.0   \n",
      "\n",
      "      ænsi  ærnits  ærtsil  ærvi  ærvinen  æsein  æskyl  ætehuolto   ðl  \n",
      "0      0.0     0.0     0.0   0.0      0.0    0.0    0.0        0.0  0.0  \n",
      "1      0.0     0.0     0.0   0.0      0.0    0.0    0.0        0.0  0.0  \n",
      "2      0.0     0.0     0.0   0.0      0.0    0.0    0.0        0.0  0.0  \n",
      "3      0.0     0.0     0.0   0.0      0.0    0.0    0.0        0.0  0.0  \n",
      "4      0.0     0.0     0.0   0.0      0.0    0.0    0.0        0.0  0.0  \n",
      "...    ...     ...     ...   ...      ...    ...    ...        ...  ...  \n",
      "4840   0.0     0.0     0.0   0.0      0.0    0.0    0.0        0.0  0.0  \n",
      "4841   0.0     0.0     0.0   0.0      0.0    0.0    0.0        0.0  0.0  \n",
      "4842   0.0     0.0     0.0   0.0      0.0    0.0    0.0        0.0  0.0  \n",
      "4843   0.0     0.0     0.0   0.0      0.0    0.0    0.0        0.0  0.0  \n",
      "4844   0.0     0.0     0.0   0.0      0.0    0.0    0.0        0.0  0.0  \n",
      "\n",
      "[4845 rows x 9788 columns]\n"
     ]
    }
   ],
   "source": [
    "print(X)"
   ]
  },
  {
   "cell_type": "code",
   "execution_count": 23,
   "metadata": {},
   "outputs": [],
   "source": [
    "# Apply SMOTE to balance the dataset\n",
    "smote = SMOTE(sampling_strategy='minority')\n",
    "X_resampled, y_resampled = smote.fit_resample(X, y)"
   ]
  },
  {
   "cell_type": "code",
   "execution_count": 24,
   "metadata": {},
   "outputs": [
    {
     "name": "stdout",
     "output_type": "stream",
     "text": [
      "0       2\n",
      "1       1\n",
      "2       3\n",
      "3       3\n",
      "4       3\n",
      "       ..\n",
      "7114    1\n",
      "7115    1\n",
      "7116    1\n",
      "7117    1\n",
      "7118    1\n",
      "Name: Feedback, Length: 7119, dtype: object\n"
     ]
    }
   ],
   "source": [
    "print(y_resampled)"
   ]
  },
  {
   "cell_type": "code",
   "execution_count": 25,
   "metadata": {},
   "outputs": [
    {
     "name": "stdout",
     "output_type": "stream",
     "text": [
      "Feedback\n",
      "2    2878\n",
      "1    2878\n",
      "3    1363\n",
      "Name: count, dtype: int64\n"
     ]
    }
   ],
   "source": [
    "y_sampled_series = pd.Series(y_resampled)\n",
    "\n",
    "# Print the value counts\n",
    "print(y_sampled_series.value_counts())"
   ]
  },
  {
   "cell_type": "markdown",
   "metadata": {},
   "source": [
    "Applying Machine Learning Models"
   ]
  },
  {
   "cell_type": "code",
   "execution_count": 26,
   "metadata": {},
   "outputs": [],
   "source": [
    "from sklearn.model_selection import train_test_split\n",
    "from sklearn.neighbors import KNeighborsClassifier\n",
    "from sklearn.metrics import accuracy_score, classification_report, confusion_matrix\n",
    "\n",
    "\n",
    "X_train, X_test, y_train, y_test = train_test_split(X_resampled, y_resampled, test_size=0.2)\n"
   ]
  },
  {
   "cell_type": "code",
   "execution_count": 27,
   "metadata": {},
   "outputs": [],
   "source": [
    "\n",
    "# Find rows with NaN values\n",
    "rows_with_nan = X_resampled[X_resampled.isnull().any(axis=1)]\n",
    "\n",
    "# Remove rows with NaN values\n",
    "X_resampled = X_resampled.dropna()\n",
    "\n",
    "# You can also reset the index if needed\n",
    "X_resampled.reset_index(drop=True, inplace=True)"
   ]
  },
  {
   "cell_type": "markdown",
   "metadata": {},
   "source": [
    "knn"
   ]
  },
  {
   "cell_type": "code",
   "execution_count": 28,
   "metadata": {},
   "outputs": [
    {
     "name": "stdout",
     "output_type": "stream",
     "text": [
      "Accuracy: 0.51\n",
      "Classification Report:\n",
      "               precision    recall  f1-score   support\n",
      "\n",
      "           1       0.46      1.00      0.63       576\n",
      "           2       0.89      0.23      0.37       574\n",
      "           3       0.89      0.06      0.12       274\n",
      "\n",
      "    accuracy                           0.51      1424\n",
      "   macro avg       0.75      0.43      0.37      1424\n",
      "weighted avg       0.71      0.51      0.42      1424\n",
      "\n",
      "Confusion Matrix:\n",
      " [[575   1   0]\n",
      " [440 132   2]\n",
      " [241  16  17]]\n"
     ]
    }
   ],
   "source": [
    "n_neighbors = 5  # Replace with the desired number of neighbors\n",
    "knn_classifier = KNeighborsClassifier(n_neighbors=n_neighbors)\n",
    "\n",
    "# Fit the classifier to the training data\n",
    "knn_classifier.fit(X_train, y_train)\n",
    "\n",
    "# Make predictions on the test data\n",
    "y_pred = knn_classifier.predict(X_test)\n",
    "\n",
    "# Evaluate the model's performance\n",
    "accuracy = accuracy_score(y_test, y_pred)\n",
    "print(f\"Accuracy: {accuracy:.2f}\")\n",
    "\n",
    "# Print a classification report\n",
    "classification_rep = classification_report(y_test, y_pred)\n",
    "print(\"Classification Report:\\n\", classification_rep)\n",
    "\n",
    "# Print a confusion matrix\n",
    "confusion_mat = confusion_matrix(y_test, y_pred)\n",
    "print(\"Confusion Matrix:\\n\", confusion_mat)"
   ]
  },
  {
   "cell_type": "markdown",
   "metadata": {},
   "source": [
    "Naive Bayes"
   ]
  },
  {
   "cell_type": "code",
   "execution_count": 30,
   "metadata": {},
   "outputs": [],
   "source": [
    "from sklearn.naive_bayes import MultinomialNB"
   ]
  },
  {
   "cell_type": "code",
   "execution_count": 31,
   "metadata": {},
   "outputs": [
    {
     "name": "stdout",
     "output_type": "stream",
     "text": [
      "Accuracy: 0.73\n",
      "Classification Report:\n",
      "               precision    recall  f1-score   support\n",
      "\n",
      "           1       0.73      0.98      0.83       576\n",
      "           2       0.74      0.82      0.78       574\n",
      "           3       0.71      0.04      0.07       274\n",
      "\n",
      "    accuracy                           0.73      1424\n",
      "   macro avg       0.73      0.61      0.56      1424\n",
      "weighted avg       0.73      0.73      0.66      1424\n",
      "\n",
      "Confusion Matrix:\n",
      " [[562  14   0]\n",
      " [100 470   4]\n",
      " [113 151  10]]\n"
     ]
    }
   ],
   "source": [
    "naive_bayes = MultinomialNB()\n",
    "\n",
    "# Fit the classifier to the training data\n",
    "naive_bayes.fit(X_train, y_train)\n",
    "\n",
    "# Make predictions on the test data\n",
    "y_pred = naive_bayes.predict(X_test)\n",
    "\n",
    "# Evaluate the model's performance\n",
    "accuracy = accuracy_score(y_test, y_pred)\n",
    "print(f\"Accuracy: {accuracy:.2f}\")\n",
    "\n",
    "# Print a classification report\n",
    "classification_rep = classification_report(y_test, y_pred)\n",
    "print(\"Classification Report:\\n\", classification_rep)\n",
    "\n",
    "# Print a confusion matrix\n",
    "confusion_mat = confusion_matrix(y_test, y_pred)\n",
    "print(\"Confusion Matrix:\\n\", confusion_mat)\n"
   ]
  },
  {
   "cell_type": "markdown",
   "metadata": {},
   "source": [
    "Random Forrest"
   ]
  },
  {
   "cell_type": "code",
   "execution_count": 32,
   "metadata": {},
   "outputs": [],
   "source": [
    "from sklearn.ensemble import RandomForestClassifier\n"
   ]
  },
  {
   "cell_type": "code",
   "execution_count": 33,
   "metadata": {},
   "outputs": [
    {
     "name": "stdout",
     "output_type": "stream",
     "text": [
      "Accuracy: 0.84\n",
      "Classification Report:\n",
      "               precision    recall  f1-score   support\n",
      "\n",
      "           1       0.93      0.95      0.94       576\n",
      "           2       0.76      0.95      0.84       574\n",
      "           3       0.88      0.37      0.52       274\n",
      "\n",
      "    accuracy                           0.84      1424\n",
      "   macro avg       0.86      0.76      0.77      1424\n",
      "weighted avg       0.85      0.84      0.82      1424\n",
      "\n",
      "Confusion Matrix:\n",
      " [[550  25   1]\n",
      " [ 17 544  13]\n",
      " [ 25 148 101]]\n"
     ]
    }
   ],
   "source": [
    "random_forest = RandomForestClassifier(n_estimators=100, random_state=42)\n",
    "\n",
    "# Fit the classifier to the training data\n",
    "random_forest.fit(X_train, y_train)\n",
    "\n",
    "# Make predictions on the test data\n",
    "y_pred = random_forest.predict(X_test)\n",
    "\n",
    "# Evaluate the model's performance\n",
    "accuracy = accuracy_score(y_test, y_pred)\n",
    "print(f\"Accuracy: {accuracy:.2f}\")\n",
    "\n",
    "# Print a classification report\n",
    "classification_rep = classification_report(y_test, y_pred)\n",
    "print(\"Classification Report:\\n\", classification_rep)\n",
    "\n",
    "# Print a confusion matrix\n",
    "confusion_mat = confusion_matrix(y_test, y_pred)\n",
    "print(\"Confusion Matrix:\\n\", confusion_mat)"
   ]
  },
  {
   "cell_type": "markdown",
   "metadata": {},
   "source": [
    "Since Random Forrest has maximum accuracy we will use Random Forrest algorithm \n",
    " "
   ]
  },
  {
   "cell_type": "code",
   "execution_count": null,
   "metadata": {},
   "outputs": [],
   "source": []
  }
 ],
 "metadata": {
  "kernelspec": {
   "display_name": "Python 3",
   "language": "python",
   "name": "python3"
  },
  "language_info": {
   "codemirror_mode": {
    "name": "ipython",
    "version": 3
   },
   "file_extension": ".py",
   "mimetype": "text/x-python",
   "name": "python",
   "nbconvert_exporter": "python",
   "pygments_lexer": "ipython3",
   "version": "3.11.3"
  },
  "orig_nbformat": 4
 },
 "nbformat": 4,
 "nbformat_minor": 2
}
